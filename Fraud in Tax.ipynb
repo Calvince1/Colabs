{
  "nbformat": 4,
  "nbformat_minor": 0,
  "metadata": {
    "colab": {
      "provenance": [],
      "authorship_tag": "ABX9TyOGjRFE9+J1n8rBAEkrG1Sl",
      "include_colab_link": true
    },
    "kernelspec": {
      "name": "python3",
      "display_name": "Python 3"
    },
    "language_info": {
      "name": "python"
    }
  },
  "cells": [
    {
      "cell_type": "markdown",
      "metadata": {
        "id": "view-in-github",
        "colab_type": "text"
      },
      "source": [
        "<a href=\"https://colab.research.google.com/github/Calvince1/Colabs/blob/main/Fraud%20in%20Tax.ipynb\" target=\"_parent\"><img src=\"https://colab.research.google.com/assets/colab-badge.svg\" alt=\"Open In Colab\"/></a>"
      ]
    },
    {
      "cell_type": "markdown",
      "source": [
        "**TAX FRAUD DETECTION FOR UNDER DECLARATIONS USING UNSUPERVISED MACHINE LEARNING MODEL**"
      ],
      "metadata": {
        "id": "0doSEDLMdyna"
      }
    },
    {
      "cell_type": "markdown",
      "source": [
        "Taxation serves as an essential method for generating revenue, enabling governments to furnish essential goods and services. However, many people dont like paying taxes and put strategies to either avoid or reduce tax liability.\n",
        "\n",
        "Some of th Strategies include:\n",
        "1. Falsifying VAT input invoices\n",
        "2. Double Claim of VAT inputs\n",
        "3. Underdeclaration of Sales\n",
        "4. Overclaim of Purchases & ID claims\n",
        "5. Use of an inconsistent stock valuation method"
      ],
      "metadata": {
        "id": "3t1bW88veGZS"
      }
    },
    {
      "cell_type": "markdown",
      "source": [
        "**Research Objectives**\n",
        "1. Establish the relationship between income tax turnover and sales volume declared\n",
        "2. Develop a model to predict sales underdeclarations\n",
        "3."
      ],
      "metadata": {
        "id": "bEUwnMj4f9IB"
      }
    },
    {
      "cell_type": "code",
      "source": [],
      "metadata": {
        "id": "WHLiAbgGjfbB"
      },
      "execution_count": null,
      "outputs": []
    }
  ]
}