{
  "nbformat": 4,
  "nbformat_minor": 0,
  "metadata": {
    "colab": {
      "provenance": [],
      "authorship_tag": "ABX9TyPjL8eKPEQWF+sEa8mWKs41",
      "include_colab_link": true
    },
    "kernelspec": {
      "name": "python3",
      "display_name": "Python 3"
    },
    "language_info": {
      "name": "python"
    }
  },
  "cells": [
    {
      "cell_type": "markdown",
      "metadata": {
        "id": "view-in-github",
        "colab_type": "text"
      },
      "source": [
        "<a href=\"https://colab.research.google.com/github/Calvince1/Colabs/blob/main/Fraud%20in%20Tax.ipynb\" target=\"_parent\"><img src=\"https://colab.research.google.com/assets/colab-badge.svg\" alt=\"Open In Colab\"/></a>"
      ]
    },
    {
      "cell_type": "markdown",
      "source": [
        "**TAX FRAUD DETECTION FOR UNDER DECLARATIONS USING UNSUPERVISED MACHINE LEARNING MODEL**"
      ],
      "metadata": {
        "id": "0doSEDLMdyna"
      }
    },
    {
      "cell_type": "markdown",
      "source": [
        "Taxation serves as an essential method for generating revenue, enabling governments to furnish essential goods and services. However, many people dont like paying taxes and put strategies to either avoid or reduce tax liability.\n",
        "\n",
        "Some of th Strategies include:\n",
        "1. Falsifying VAT input invoices\n",
        "2. Double Claim of VAT inputs\n",
        "3. Underdeclaration of Sales\n",
        "4. Overclaim of Purchases & ID claims\n",
        "5. Use of an inconsistent stock valuation method"
      ],
      "metadata": {
        "id": "3t1bW88veGZS"
      }
    },
    {
      "cell_type": "markdown",
      "source": [
        "**Research Objectives**\n",
        "1. Establish the relationship between income tax turnover and sales volume declared\n",
        "2. Develop a model to predict sales underdeclarations\n",
        "3."
      ],
      "metadata": {
        "id": "bEUwnMj4f9IB"
      }
    },
    {
      "cell_type": "code",
      "source": [
        "import matplotlib.pyplot as plt\n",
        "import pandas as pd\n",
        "import pylab as pl\n",
        "import numpy as np\n",
        "%matplotlib inline"
      ],
      "metadata": {
        "id": "WHLiAbgGjfbB"
      },
      "execution_count": 1,
      "outputs": []
    },
    {
      "cell_type": "code",
      "source": [
        "df_turn"
      ],
      "metadata": {
        "id": "EEFTeVZ2q8io"
      },
      "execution_count": null,
      "outputs": []
    },
    {
      "cell_type": "code",
      "source": [],
      "metadata": {
        "id": "49RBvCZnq8lc"
      },
      "execution_count": null,
      "outputs": []
    },
    {
      "cell_type": "code",
      "source": [],
      "metadata": {
        "id": "GRlvxgTJq8oT"
      },
      "execution_count": null,
      "outputs": []
    },
    {
      "cell_type": "code",
      "source": [],
      "metadata": {
        "id": "AdSlkWrIq8rM"
      },
      "execution_count": null,
      "outputs": []
    },
    {
      "cell_type": "code",
      "source": [],
      "metadata": {
        "id": "9pA9t7x_q8ta"
      },
      "execution_count": null,
      "outputs": []
    },
    {
      "cell_type": "code",
      "source": [],
      "metadata": {
        "id": "lHhym-ebq8wf"
      },
      "execution_count": null,
      "outputs": []
    }
  ]
}